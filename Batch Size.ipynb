{
 "cells": [
  {
   "cell_type": "code",
   "execution_count": 1,
   "id": "d0501b27",
   "metadata": {},
   "outputs": [],
   "source": [
    "import numpy as np\n",
    "import matplotlib.pyplot as plt"
   ]
  },
  {
   "cell_type": "code",
   "execution_count": 2,
   "id": "3a61088d",
   "metadata": {},
   "outputs": [],
   "source": [
    "# step-1: Generate a synthetic dataset\n",
    "\n",
    "np.random.seed(42) # for reproducibility\n",
    "x = 2 * np.random.rand(100, 1) # 100 samples, single feature\n",
    "y = 4 + 3 * x + np.random.randn(100, 1) # linear relation with noise"
   ]
  },
  {
   "cell_type": "code",
   "execution_count": 3,
   "id": "3df4525c",
   "metadata": {},
   "outputs": [],
   "source": [
    "# step-2: define the model and lose function\n",
    "\n",
    "def predict(x, w, b):\n",
    "    return x.dot(w) + b\n",
    "\n",
    "def mean_squared_error(y_true, y_pred):\n",
    "    return np.mean((y_true - y_pred)**2)\n",
    "\n",
    "def gradients(x, y, y_pred):\n",
    "    error = y_pred - y\n",
    "    grad_w = 2 * x.T.dot(error) / len(x)\n",
    "    grad_b = 2 * np.mean(error)\n",
    "    return grad_w, grad_b"
   ]
  },
  {
   "cell_type": "code",
   "execution_count": 4,
   "id": "9e71a159",
   "metadata": {},
   "outputs": [],
   "source": [
    "#step-3: Implement mini-batch gradient descent\n",
    "\n",
    "def mini_batch_gradient_descent(x, y, batch_sizes, epochs=100, learning_rate = 0.01):\n",
    "    \n",
    "    histroy = {}\n",
    "    \n",
    "    for batch_size in batch_sizes:\n",
    "        w = np.random.randn(1, 1) # Random initital weight\n",
    "        b = np.random.randn() # random initial bias\n",
    "        \n",
    "        for epoch in range(epochs):\n",
    "            shuffled_indices = np.random.permutation(len(x))\n",
    "            x_shuffled = x[shuffled_indices]\n",
    "            y_shuffled = y[shuffled_indices]\n",
    "            \n",
    "            for i in range (0, len(x), batch_size):\n",
    "                x_batch = x_shuffled[i:i+batch_size]\n",
    "                y_batch = y_shuffled[i:i+batch_size]\n",
    "                y_pred = predict(x_batch, w, b)\n",
    "                grad_w, grad_b = gradients(x_batch, y_batch, y_pred)\n",
    "                \n",
    "                w -= learning_rate * grad_w\n",
    "                b -= learning_rate * grad_b\n",
    "                \n",
    "        histroy[batch_size] = (w, b)\n",
    "    return histroy"
   ]
  },
  {
   "cell_type": "code",
   "execution_count": 5,
   "id": "2e13af3c",
   "metadata": {},
   "outputs": [],
   "source": [
    "# train with different batch sizes\n",
    "\n",
    "batch_sizes = [1, 10, 50, 100]\n",
    "history = mini_batch_gradient_descent(x, y, batch_sizes)"
   ]
  },
  {
   "cell_type": "code",
   "execution_count": 6,
   "id": "138d9ef6",
   "metadata": {},
   "outputs": [
    {
     "data": {
      "text/plain": [
       "{1: (array([[2.73898415]]), 4.193348844367158),\n",
       " 10: (array([[2.78630277]]), 4.201795174217376),\n",
       " 50: (array([[2.67224555]]), 4.32426655307112),\n",
       " 100: (array([[2.93947927]]), 3.9135222908891025)}"
      ]
     },
     "execution_count": 6,
     "metadata": {},
     "output_type": "execute_result"
    }
   ],
   "source": [
    "history"
   ]
  },
  {
   "cell_type": "code",
   "execution_count": 7,
   "id": "0a906545",
   "metadata": {},
   "outputs": [],
   "source": [
    "biases = [history[bs][1] for bs in batch_sizes]\n",
    "weights = [float(history[bs][0][0]) for bs in batch_sizes]"
   ]
  },
  {
   "cell_type": "code",
   "execution_count": 8,
   "id": "20c3048d",
   "metadata": {},
   "outputs": [
    {
     "data": {
      "text/plain": [
       "<Figure size 1200x600 with 0 Axes>"
      ]
     },
     "execution_count": 8,
     "metadata": {},
     "output_type": "execute_result"
    },
    {
     "data": {
      "text/plain": [
       "<Figure size 1200x600 with 0 Axes>"
      ]
     },
     "metadata": {},
     "output_type": "display_data"
    }
   ],
   "source": [
    "# re-plotting with corrected data\n",
    "plt.figure(figsize=(12, 6))"
   ]
  },
  {
   "cell_type": "code",
   "execution_count": 9,
   "id": "542ab39e",
   "metadata": {},
   "outputs": [
    {
     "data": {
      "image/png": "[encoded data removed]",
      "text/plain": [
       "<Figure size 640x480 with 2 Axes>"
      ]
     },
     "metadata": {},
     "output_type": "display_data"
    }
   ],
   "source": [
    "# weights\n",
    "\n",
    "plt.subplot(1, 2, 1)\n",
    "plt.bar(range(len(batch_sizes)), weights, tick_label = batch_sizes)\n",
    "plt.xlabel('Batch Size')\n",
    "plt.ylabel('Weight value')\n",
    "plt.title('Final Weight for Different Batch Sizes')\n",
    "\n",
    "# biases \n",
    "\n",
    "plt.subplot(1, 2, 2)\n",
    "plt.bar(range(len(batch_sizes)), weights, tick_label = batch_sizes)\n",
    "plt.xlabel('Batch Size')\n",
    "plt.ylabel('Biases value')\n",
    "plt.title('Final Bias for Different Batch Sizes')\n",
    "\n",
    "plt.tight_layout()\n",
    "plt.show()"
   ]
  },
  {
   "cell_type": "code",
   "execution_count": null,
   "id": "775885bc",
   "metadata": {},
   "outputs": [],
   "source": []
  }
 ],
 "metadata": {
  "kernelspec": {
   "display_name": "Python 3 (ipykernel)",
   "language": "python",
   "name": "python3"
  },
  "language_info": {
   "codemirror_mode": {
    "name": "ipython",
    "version": 3
   },
   "file_extension": ".py",
   "mimetype": "text/x-python",
   "name": "python",
   "nbconvert_exporter": "python",
   "pygments_lexer": "ipython3",
   "version": "3.11.3"
  }
 },
 "nbformat": 4,
 "nbformat_minor": 5
}
